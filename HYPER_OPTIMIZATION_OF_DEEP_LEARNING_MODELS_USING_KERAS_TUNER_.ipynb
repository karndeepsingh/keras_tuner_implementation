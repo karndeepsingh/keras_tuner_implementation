{
  "nbformat": 4,
  "nbformat_minor": 0,
  "metadata": {
    "accelerator": "GPU",
    "colab": {
      "name": "HYPER OPTIMIZATION OF DEEP LEARNING MODELS USING KERAS TUNER .ipynb",
      "provenance": [],
      "collapsed_sections": [
        "Tce3stUlHN0L"
      ]
    },
    "kernelspec": {
      "display_name": "Python 3",
      "name": "python3"
    }
  },
  "cells": [
    {
      "cell_type": "markdown",
      "metadata": {
        "id": "Tce3stUlHN0L"
      },
      "source": [
        "##### Copyright 2020 The TensorFlow Authors."
      ]
    },
    {
      "cell_type": "code",
      "metadata": {
        "cellView": "form",
        "id": "tuOe1ymfHZPu"
      },
      "source": [
        "#@title Licensed under the Apache License, Version 2.0 (the \"License\");\n",
        "# you may not use this file except in compliance with the License.\n",
        "# You may obtain a copy of the License at\n",
        "#\n",
        "# https://www.apache.org/licenses/LICENSE-2.0\n",
        "#\n",
        "# Unless required by applicable law or agreed to in writing, software\n",
        "# distributed under the License is distributed on an \"AS IS\" BASIS,\n",
        "# WITHOUT WARRANTIES OR CONDITIONS OF ANY KIND, either express or implied.\n",
        "# See the License for the specific language governing permissions and\n",
        "# limitations under the License."
      ],
      "execution_count": null,
      "outputs": []
    },
    {
      "cell_type": "markdown",
      "metadata": {
        "id": "qFdPvlXBOdUN"
      },
      "source": [
        "# Introduction to the Keras Tuner"
      ]
    },
    {
      "cell_type": "markdown",
      "metadata": {
        "id": "MfBg1C5NB3X0"
      },
      "source": [
        "<table class=\"tfo-notebook-buttons\" align=\"left\">\n",
        "  <td>\n",
        "    <a target=\"_blank\" href=\"https://www.tensorflow.org/tutorials/keras/keras_tuner\"><img src=\"https://www.tensorflow.org/images/tf_logo_32px.png\" />View on TensorFlow.org</a>\n",
        "  </td>\n",
        "  <td>\n",
        "    <a target=\"_blank\" href=\"https://colab.research.google.com/github/tensorflow/docs/blob/master/site/en/tutorials/keras/keras_tuner.ipynb\"><img src=\"https://www.tensorflow.org/images/colab_logo_32px.png\" />Run in Google Colab</a>\n",
        "  </td>\n",
        "  <td>\n",
        "    <a target=\"_blank\" href=\"https://github.com/tensorflow/docs/blob/master/site/en/tutorials/keras/keras_tuner.ipynb\"><img src=\"https://www.tensorflow.org/images/GitHub-Mark-32px.png\" />View source on GitHub</a>\n",
        "  </td>\n",
        "  <td>\n",
        "    <a href=\"https://storage.googleapis.com/tensorflow_docs/docs/site/en/tutorials/keras/keras_tuner.ipynb\"><img src=\"https://www.tensorflow.org/images/download_logo_32px.png\" />Download notebook</a>\n",
        "  </td>\n",
        "</table>"
      ]
    },
    {
      "cell_type": "markdown",
      "metadata": {
        "id": "xHxb-dlhMIzW"
      },
      "source": [
        "## Overview\n",
        "\n",
        "The Keras Tuner is a library that helps you pick the optimal set of hyperparameters for your TensorFlow program. The process of selecting the right set of hyperparameters for your machine learning (ML) application is called *hyperparameter tuning* or *hypertuning*.\n",
        "\n",
        "Hyperparameters are the variables that govern the training process and the topology of an ML model. These variables remain constant over the training process and directly impact the performance of your ML program. Hyperparameters are of two types:\n",
        "1. **Model hyperparameters** which influence model selection such as the number and width of hidden layers\n",
        "2. **Algorithm hyperparameters** which influence the speed and quality of the learning algorithm such as the learning rate for Stochastic Gradient Descent (SGD) and the number of nearest neighbors for a k Nearest Neighbors (KNN) classifier\n",
        "\n",
        "In this tutorial, you will use the Keras Tuner to perform hypertuning for an image classification application."
      ]
    },
    {
      "cell_type": "markdown",
      "metadata": {
        "id": "MUXex9ctTuDB"
      },
      "source": [
        "## Setup"
      ]
    },
    {
      "cell_type": "code",
      "metadata": {
        "id": "IqR2PQG4ZaZ0"
      },
      "source": [
        "import tensorflow as tf\n",
        "from tensorflow import keras"
      ],
      "execution_count": 1,
      "outputs": []
    },
    {
      "cell_type": "markdown",
      "metadata": {
        "id": "g83Lwsy-Aq2_"
      },
      "source": [
        "Install and import the Keras Tuner."
      ]
    },
    {
      "cell_type": "code",
      "metadata": {
        "id": "hpMLpbt9jcO6",
        "colab": {
          "base_uri": "https://localhost:8080/"
        },
        "outputId": "4e35ab4e-2e50-44a8-fdba-8e8c57c6ffe0"
      },
      "source": [
        "!pip install -q -U keras-tuner"
      ],
      "execution_count": 2,
      "outputs": [
        {
          "output_type": "stream",
          "text": [
            "\u001b[?25l\r\u001b[K     |███▍                            | 10 kB 29.1 MB/s eta 0:00:01\r\u001b[K     |██████▉                         | 20 kB 33.8 MB/s eta 0:00:01\r\u001b[K     |██████████▏                     | 30 kB 20.7 MB/s eta 0:00:01\r\u001b[K     |█████████████▋                  | 40 kB 17.5 MB/s eta 0:00:01\r\u001b[K     |█████████████████               | 51 kB 9.0 MB/s eta 0:00:01\r\u001b[K     |████████████████████▍           | 61 kB 8.5 MB/s eta 0:00:01\r\u001b[K     |███████████████████████▊        | 71 kB 8.9 MB/s eta 0:00:01\r\u001b[K     |███████████████████████████▏    | 81 kB 9.9 MB/s eta 0:00:01\r\u001b[K     |██████████████████████████████▋ | 92 kB 10.4 MB/s eta 0:00:01\r\u001b[K     |████████████████████████████████| 96 kB 4.4 MB/s \n",
            "\u001b[?25h  Building wheel for kt-legacy (setup.py) ... \u001b[?25l\u001b[?25hdone\n"
          ],
          "name": "stdout"
        }
      ]
    },
    {
      "cell_type": "code",
      "metadata": {
        "id": "_leAIdFKAxAD"
      },
      "source": [
        "import keras_tuner as kt"
      ],
      "execution_count": 3,
      "outputs": []
    },
    {
      "cell_type": "markdown",
      "metadata": {
        "id": "ReV_UXOgCZvx"
      },
      "source": [
        "## Download and prepare the dataset\n",
        "\n",
        "In this tutorial, you will use the Keras Tuner to find the best hyperparameters for a machine learning model that classifies images of clothing from the [Fashion MNIST dataset](https://github.com/zalandoresearch/fashion-mnist)."
      ]
    },
    {
      "cell_type": "markdown",
      "metadata": {
        "id": "HljH_ENLEdHa"
      },
      "source": [
        "Load the data."
      ]
    },
    {
      "cell_type": "code",
      "metadata": {
        "id": "OHlHs9Wj_PUM",
        "colab": {
          "base_uri": "https://localhost:8080/"
        },
        "outputId": "a9451856-fca3-4776-a93e-558a9a3221e3"
      },
      "source": [
        "(img_train, label_train), (img_test, label_test) = keras.datasets.fashion_mnist.load_data()"
      ],
      "execution_count": 4,
      "outputs": [
        {
          "output_type": "stream",
          "text": [
            "Downloading data from https://storage.googleapis.com/tensorflow/tf-keras-datasets/train-labels-idx1-ubyte.gz\n",
            "32768/29515 [=================================] - 0s 0us/step\n",
            "Downloading data from https://storage.googleapis.com/tensorflow/tf-keras-datasets/train-images-idx3-ubyte.gz\n",
            "26427392/26421880 [==============================] - 0s 0us/step\n",
            "Downloading data from https://storage.googleapis.com/tensorflow/tf-keras-datasets/t10k-labels-idx1-ubyte.gz\n",
            "8192/5148 [===============================================] - 0s 0us/step\n",
            "Downloading data from https://storage.googleapis.com/tensorflow/tf-keras-datasets/t10k-images-idx3-ubyte.gz\n",
            "4423680/4422102 [==============================] - 0s 0us/step\n"
          ],
          "name": "stdout"
        }
      ]
    },
    {
      "cell_type": "code",
      "metadata": {
        "id": "bLVhXs3xrUD0"
      },
      "source": [
        "# Normalize pixel values between 0 and 1\n",
        "img_train = img_train.astype('float32') / 255.0\n",
        "img_test = img_test.astype('float32') / 255.0"
      ],
      "execution_count": 5,
      "outputs": []
    },
    {
      "cell_type": "markdown",
      "metadata": {
        "id": "K5YEL2H2Ax3e"
      },
      "source": [
        "## Define the model\n",
        "\n",
        "When you build a model for hypertuning, you also define the hyperparameter search space in addition to the model architecture. The model you set up for hypertuning is called a *hypermodel*.\n",
        "\n",
        "You can define a hypermodel through two approaches:\n",
        "\n",
        "* By using a model builder function\n",
        "* By subclassing the `HyperModel` class of the Keras Tuner API\n",
        "\n",
        "You can also use two pre-defined `HyperModel` classes - [HyperXception](https://keras-team.github.io/keras-tuner/documentation/hypermodels/#hyperxception-class) and [HyperResNet](https://keras-team.github.io/keras-tuner/documentation/hypermodels/#hyperresnet-class) for computer vision applications.\n",
        "\n",
        "In this tutorial, you use a model builder function to define the image classification model. The model builder function returns a compiled model and uses hyperparameters you define inline to hypertune the model."
      ]
    },
    {
      "cell_type": "code",
      "metadata": {
        "id": "ZQKodC-jtsva"
      },
      "source": [
        "def model_builder(hp):\n",
        "  model = keras.Sequential()\n",
        "  model.add(keras.layers.Flatten(input_shape=(28, 28)))\n",
        "\n",
        "  # Tune the number of units in the first Dense layer\n",
        "  # Choose an optimal value between 32-512\n",
        "  hp_units = hp.Int('units', min_value=32, max_value=512, step=32)\n",
        "  model.add(keras.layers.Dense(units=hp_units, activation='relu'))\n",
        "  model.add(keras.layers.Dense(10))\n",
        "\n",
        "  # Tune the learning rate for the optimizer\n",
        "  # Choose an optimal value from 0.01, 0.001, or 0.0001\n",
        "  hp_learning_rate = hp.Choice('learning_rate', values=[1e-2, 1e-3, 1e-4])\n",
        "\n",
        "  model.compile(optimizer=keras.optimizers.Adam(learning_rate=hp_learning_rate),\n",
        "                loss=keras.losses.SparseCategoricalCrossentropy(from_logits=True),\n",
        "                metrics=['accuracy'])\n",
        "\n",
        "  return model"
      ],
      "execution_count": 6,
      "outputs": []
    },
    {
      "cell_type": "markdown",
      "metadata": {
        "id": "0J1VYw4q3x0b"
      },
      "source": [
        "## Instantiate the tuner and perform hypertuning\n",
        "\n",
        "Instantiate the tuner to perform the hypertuning. The Keras Tuner has four tuners available - `RandomSearch`, `Hyperband`, `BayesianOptimization`, and `Sklearn`. In this tutorial, you use the [Hyperband](https://arxiv.org/pdf/1603.06560.pdf) tuner.\n",
        "\n",
        "To instantiate the Hyperband tuner, you must specify the hypermodel, the `objective` to optimize and the maximum number of epochs to train (`max_epochs`)."
      ]
    },
    {
      "cell_type": "code",
      "metadata": {
        "id": "oichQFly6Y46"
      },
      "source": [
        "tuner = kt.Hyperband(model_builder,\n",
        "                     objective='val_accuracy',\n",
        "                     max_epochs=10,\n",
        "                     factor=3,\n",
        "                     directory='my_dir',\n",
        "                     project_name='intro_to_kt')"
      ],
      "execution_count": 7,
      "outputs": []
    },
    {
      "cell_type": "markdown",
      "metadata": {
        "id": "VaIhhdKf9VtI"
      },
      "source": [
        "The Hyperband tuning algorithm uses adaptive resource allocation and early-stopping to quickly converge on a high-performing model. This is done using a sports championship style bracket. The algorithm trains a large number of models for a few epochs and carries forward only the top-performing half of models to the next round. Hyperband determines the number of models to train in a bracket by computing 1 + log<sub>`factor`</sub>(`max_epochs`) and rounding it up to the nearest integer."
      ]
    },
    {
      "cell_type": "markdown",
      "metadata": {
        "id": "cwhBdXx0Ekj8"
      },
      "source": [
        "Create a callback to stop training early after reaching a certain value for the validation loss."
      ]
    },
    {
      "cell_type": "code",
      "metadata": {
        "id": "WT9IkS9NEjLc"
      },
      "source": [
        "stop_early = tf.keras.callbacks.EarlyStopping(monitor='val_loss', patience=5)"
      ],
      "execution_count": 8,
      "outputs": []
    },
    {
      "cell_type": "markdown",
      "metadata": {
        "id": "UKghEo15Tduy"
      },
      "source": [
        "Run the hyperparameter search. The arguments for the search method are the same as those used for `tf.keras.model.fit` in addition to the callback above."
      ]
    },
    {
      "cell_type": "code",
      "metadata": {
        "id": "dSBQcTHF9cKt",
        "colab": {
          "base_uri": "https://localhost:8080/"
        },
        "outputId": "8675e747-1a59-4806-867c-7268704ef45a"
      },
      "source": [
        "tuner.search(img_train, label_train, epochs=50, validation_split=0.2, callbacks=[stop_early])\n",
        "\n",
        "# Get the optimal hyperparameters\n",
        "best_hps=tuner.get_best_hyperparameters(num_trials=1)[0]\n",
        "\n",
        "print(f\"\"\"\n",
        "The hyperparameter search is complete. The optimal number of units in the first densely-connected\n",
        "layer is {best_hps.get('units')} and the optimal learning rate for the optimizer\n",
        "is {best_hps.get('learning_rate')}.\n",
        "\"\"\")"
      ],
      "execution_count": 9,
      "outputs": [
        {
          "output_type": "stream",
          "text": [
            "Trial 30 Complete [00h 00m 41s]\n",
            "val_accuracy: 0.8819166421890259\n",
            "\n",
            "Best val_accuracy So Far: 0.8870833516120911\n",
            "Total elapsed time: 00h 07m 39s\n",
            "INFO:tensorflow:Oracle triggered exit\n",
            "\n",
            "The hyperparameter search is complete. The optimal number of units in the first densely-connected\n",
            "layer is 256 and the optimal learning rate for the optimizer\n",
            "is 0.001.\n",
            "\n"
          ],
          "name": "stdout"
        }
      ]
    },
    {
      "cell_type": "markdown",
      "metadata": {
        "id": "Lak_ylf88xBv"
      },
      "source": [
        "## Train the model\n",
        "\n",
        "Find the optimal number of epochs to train the model with the hyperparameters obtained from the search."
      ]
    },
    {
      "cell_type": "code",
      "metadata": {
        "id": "McO82AXOuxXh",
        "colab": {
          "base_uri": "https://localhost:8080/"
        },
        "outputId": "cb759363-e183-4658-9f75-f6e352fe3831"
      },
      "source": [
        "# Build the model with the optimal hyperparameters and train it on the data for 50 epochs\n",
        "model = tuner.hypermodel.build(best_hps)\n",
        "history = model.fit(img_train, label_train, epochs=50, validation_split=0.2)\n",
        "\n",
        "val_acc_per_epoch = history.history['val_accuracy']\n",
        "best_epoch = val_acc_per_epoch.index(max(val_acc_per_epoch)) + 1\n",
        "print('Best epoch: %d' % (best_epoch,))"
      ],
      "execution_count": 10,
      "outputs": [
        {
          "output_type": "stream",
          "text": [
            "Epoch 1/50\n",
            "1500/1500 [==============================] - 3s 2ms/step - loss: 0.5007 - accuracy: 0.8228 - val_loss: 0.4598 - val_accuracy: 0.8307\n",
            "Epoch 2/50\n",
            "1500/1500 [==============================] - 3s 2ms/step - loss: 0.3787 - accuracy: 0.8638 - val_loss: 0.3856 - val_accuracy: 0.8548\n",
            "Epoch 3/50\n",
            "1500/1500 [==============================] - 3s 2ms/step - loss: 0.3337 - accuracy: 0.8770 - val_loss: 0.3470 - val_accuracy: 0.8733\n",
            "Epoch 4/50\n",
            "1500/1500 [==============================] - 3s 2ms/step - loss: 0.3099 - accuracy: 0.8854 - val_loss: 0.3303 - val_accuracy: 0.8813\n",
            "Epoch 5/50\n",
            "1500/1500 [==============================] - 3s 2ms/step - loss: 0.2889 - accuracy: 0.8927 - val_loss: 0.3182 - val_accuracy: 0.8848\n",
            "Epoch 6/50\n",
            "1500/1500 [==============================] - 3s 2ms/step - loss: 0.2723 - accuracy: 0.8982 - val_loss: 0.3333 - val_accuracy: 0.8777\n",
            "Epoch 7/50\n",
            "1500/1500 [==============================] - 3s 2ms/step - loss: 0.2610 - accuracy: 0.9026 - val_loss: 0.3393 - val_accuracy: 0.8784\n",
            "Epoch 8/50\n",
            "1500/1500 [==============================] - 3s 2ms/step - loss: 0.2489 - accuracy: 0.9065 - val_loss: 0.3180 - val_accuracy: 0.8873\n",
            "Epoch 9/50\n",
            "1500/1500 [==============================] - 3s 2ms/step - loss: 0.2375 - accuracy: 0.9111 - val_loss: 0.3227 - val_accuracy: 0.8879\n",
            "Epoch 10/50\n",
            "1500/1500 [==============================] - 3s 2ms/step - loss: 0.2275 - accuracy: 0.9149 - val_loss: 0.3211 - val_accuracy: 0.8889\n",
            "Epoch 11/50\n",
            "1500/1500 [==============================] - 3s 2ms/step - loss: 0.2204 - accuracy: 0.9176 - val_loss: 0.3159 - val_accuracy: 0.8887\n",
            "Epoch 12/50\n",
            "1500/1500 [==============================] - 3s 2ms/step - loss: 0.2116 - accuracy: 0.9209 - val_loss: 0.3167 - val_accuracy: 0.8934\n",
            "Epoch 13/50\n",
            "1500/1500 [==============================] - 3s 2ms/step - loss: 0.2053 - accuracy: 0.9223 - val_loss: 0.3230 - val_accuracy: 0.8873\n",
            "Epoch 14/50\n",
            "1500/1500 [==============================] - 3s 2ms/step - loss: 0.1948 - accuracy: 0.9267 - val_loss: 0.3122 - val_accuracy: 0.8957\n",
            "Epoch 15/50\n",
            "1500/1500 [==============================] - 3s 2ms/step - loss: 0.1904 - accuracy: 0.9274 - val_loss: 0.3457 - val_accuracy: 0.8852\n",
            "Epoch 16/50\n",
            "1500/1500 [==============================] - 3s 2ms/step - loss: 0.1845 - accuracy: 0.9309 - val_loss: 0.3179 - val_accuracy: 0.8958\n",
            "Epoch 17/50\n",
            "1500/1500 [==============================] - 3s 2ms/step - loss: 0.1777 - accuracy: 0.9331 - val_loss: 0.3375 - val_accuracy: 0.8895\n",
            "Epoch 18/50\n",
            "1500/1500 [==============================] - 3s 2ms/step - loss: 0.1736 - accuracy: 0.9338 - val_loss: 0.3389 - val_accuracy: 0.8916\n",
            "Epoch 19/50\n",
            "1500/1500 [==============================] - 3s 2ms/step - loss: 0.1673 - accuracy: 0.9369 - val_loss: 0.3408 - val_accuracy: 0.8911\n",
            "Epoch 20/50\n",
            "1500/1500 [==============================] - 3s 2ms/step - loss: 0.1629 - accuracy: 0.9396 - val_loss: 0.3650 - val_accuracy: 0.8859\n",
            "Epoch 21/50\n",
            "1500/1500 [==============================] - 3s 2ms/step - loss: 0.1559 - accuracy: 0.9407 - val_loss: 0.3524 - val_accuracy: 0.8893\n",
            "Epoch 22/50\n",
            "1500/1500 [==============================] - 3s 2ms/step - loss: 0.1525 - accuracy: 0.9424 - val_loss: 0.3626 - val_accuracy: 0.8904\n",
            "Epoch 23/50\n",
            "1500/1500 [==============================] - 3s 2ms/step - loss: 0.1475 - accuracy: 0.9451 - val_loss: 0.3629 - val_accuracy: 0.8928\n",
            "Epoch 24/50\n",
            "1500/1500 [==============================] - 3s 2ms/step - loss: 0.1466 - accuracy: 0.9441 - val_loss: 0.3548 - val_accuracy: 0.8969\n",
            "Epoch 25/50\n",
            "1500/1500 [==============================] - 3s 2ms/step - loss: 0.1404 - accuracy: 0.9467 - val_loss: 0.3822 - val_accuracy: 0.8897\n",
            "Epoch 26/50\n",
            "1500/1500 [==============================] - 3s 2ms/step - loss: 0.1335 - accuracy: 0.9494 - val_loss: 0.3924 - val_accuracy: 0.8870\n",
            "Epoch 27/50\n",
            "1500/1500 [==============================] - 3s 2ms/step - loss: 0.1322 - accuracy: 0.9491 - val_loss: 0.3772 - val_accuracy: 0.8927\n",
            "Epoch 28/50\n",
            "1500/1500 [==============================] - 3s 2ms/step - loss: 0.1313 - accuracy: 0.9505 - val_loss: 0.3847 - val_accuracy: 0.8953\n",
            "Epoch 29/50\n",
            "1500/1500 [==============================] - 3s 2ms/step - loss: 0.1215 - accuracy: 0.9540 - val_loss: 0.4036 - val_accuracy: 0.8873\n",
            "Epoch 30/50\n",
            "1500/1500 [==============================] - 3s 2ms/step - loss: 0.1219 - accuracy: 0.9543 - val_loss: 0.3900 - val_accuracy: 0.8920\n",
            "Epoch 31/50\n",
            "1500/1500 [==============================] - 3s 2ms/step - loss: 0.1190 - accuracy: 0.9558 - val_loss: 0.4097 - val_accuracy: 0.8923\n",
            "Epoch 32/50\n",
            "1500/1500 [==============================] - 3s 2ms/step - loss: 0.1189 - accuracy: 0.9551 - val_loss: 0.4422 - val_accuracy: 0.8869\n",
            "Epoch 33/50\n",
            "1500/1500 [==============================] - 3s 2ms/step - loss: 0.1118 - accuracy: 0.9578 - val_loss: 0.4232 - val_accuracy: 0.8889\n",
            "Epoch 34/50\n",
            "1500/1500 [==============================] - 3s 2ms/step - loss: 0.1127 - accuracy: 0.9572 - val_loss: 0.4156 - val_accuracy: 0.8890\n",
            "Epoch 35/50\n",
            "1500/1500 [==============================] - 3s 2ms/step - loss: 0.1066 - accuracy: 0.9602 - val_loss: 0.4330 - val_accuracy: 0.8904\n",
            "Epoch 36/50\n",
            "1500/1500 [==============================] - 3s 2ms/step - loss: 0.1044 - accuracy: 0.9616 - val_loss: 0.4465 - val_accuracy: 0.8881\n",
            "Epoch 37/50\n",
            "1500/1500 [==============================] - 3s 2ms/step - loss: 0.1039 - accuracy: 0.9612 - val_loss: 0.4389 - val_accuracy: 0.8925\n",
            "Epoch 38/50\n",
            "1500/1500 [==============================] - 3s 2ms/step - loss: 0.1000 - accuracy: 0.9619 - val_loss: 0.4405 - val_accuracy: 0.8946\n",
            "Epoch 39/50\n",
            "1500/1500 [==============================] - 3s 2ms/step - loss: 0.0985 - accuracy: 0.9626 - val_loss: 0.4539 - val_accuracy: 0.8942\n",
            "Epoch 40/50\n",
            "1500/1500 [==============================] - 3s 2ms/step - loss: 0.0952 - accuracy: 0.9642 - val_loss: 0.4738 - val_accuracy: 0.8938\n",
            "Epoch 41/50\n",
            "1500/1500 [==============================] - 3s 2ms/step - loss: 0.0937 - accuracy: 0.9649 - val_loss: 0.4754 - val_accuracy: 0.8917\n",
            "Epoch 42/50\n",
            "1500/1500 [==============================] - 3s 2ms/step - loss: 0.0937 - accuracy: 0.9641 - val_loss: 0.4998 - val_accuracy: 0.8874\n",
            "Epoch 43/50\n",
            "1500/1500 [==============================] - 3s 2ms/step - loss: 0.0905 - accuracy: 0.9669 - val_loss: 0.4901 - val_accuracy: 0.8898\n",
            "Epoch 44/50\n",
            "1500/1500 [==============================] - 3s 2ms/step - loss: 0.0924 - accuracy: 0.9656 - val_loss: 0.4995 - val_accuracy: 0.8892\n",
            "Epoch 45/50\n",
            "1500/1500 [==============================] - 3s 2ms/step - loss: 0.0869 - accuracy: 0.9675 - val_loss: 0.4803 - val_accuracy: 0.8923\n",
            "Epoch 46/50\n",
            "1500/1500 [==============================] - 3s 2ms/step - loss: 0.0834 - accuracy: 0.9679 - val_loss: 0.5642 - val_accuracy: 0.8855\n",
            "Epoch 47/50\n",
            "1500/1500 [==============================] - 3s 2ms/step - loss: 0.0832 - accuracy: 0.9682 - val_loss: 0.4814 - val_accuracy: 0.8924\n",
            "Epoch 48/50\n",
            "1500/1500 [==============================] - 3s 2ms/step - loss: 0.0846 - accuracy: 0.9678 - val_loss: 0.4907 - val_accuracy: 0.8966\n",
            "Epoch 49/50\n",
            "1500/1500 [==============================] - 3s 2ms/step - loss: 0.0778 - accuracy: 0.9711 - val_loss: 0.5101 - val_accuracy: 0.8907\n",
            "Epoch 50/50\n",
            "1500/1500 [==============================] - 3s 2ms/step - loss: 0.0815 - accuracy: 0.9688 - val_loss: 0.5210 - val_accuracy: 0.8883\n",
            "Best epoch: 24\n"
          ],
          "name": "stdout"
        }
      ]
    },
    {
      "cell_type": "markdown",
      "metadata": {
        "id": "uOTSirSTI3Gp"
      },
      "source": [
        "Re-instantiate the hypermodel and train it with the optimal number of epochs from above."
      ]
    },
    {
      "cell_type": "code",
      "metadata": {
        "id": "NoiPUEHmMhCe",
        "colab": {
          "base_uri": "https://localhost:8080/"
        },
        "outputId": "708a5d4e-6764-4647-8325-67cb52b6a89b"
      },
      "source": [
        "hypermodel = tuner.hypermodel.build(best_hps)\n",
        "\n",
        "# Retrain the model\n",
        "hypermodel.fit(img_train, label_train, epochs=best_epoch, validation_split=0.2)"
      ],
      "execution_count": 11,
      "outputs": [
        {
          "output_type": "stream",
          "text": [
            "Epoch 1/24\n",
            "1500/1500 [==============================] - 4s 2ms/step - loss: 0.5022 - accuracy: 0.8230 - val_loss: 0.4500 - val_accuracy: 0.8342\n",
            "Epoch 2/24\n",
            "1500/1500 [==============================] - 3s 2ms/step - loss: 0.3770 - accuracy: 0.8636 - val_loss: 0.3625 - val_accuracy: 0.8698\n",
            "Epoch 3/24\n",
            "1500/1500 [==============================] - 3s 2ms/step - loss: 0.3365 - accuracy: 0.8758 - val_loss: 0.3711 - val_accuracy: 0.8643\n",
            "Epoch 4/24\n",
            "1500/1500 [==============================] - 3s 2ms/step - loss: 0.3089 - accuracy: 0.8865 - val_loss: 0.3399 - val_accuracy: 0.8793\n",
            "Epoch 5/24\n",
            "1500/1500 [==============================] - 3s 2ms/step - loss: 0.2902 - accuracy: 0.8929 - val_loss: 0.3688 - val_accuracy: 0.8705\n",
            "Epoch 6/24\n",
            "1500/1500 [==============================] - 3s 2ms/step - loss: 0.2767 - accuracy: 0.8980 - val_loss: 0.3311 - val_accuracy: 0.8813\n",
            "Epoch 7/24\n",
            "1500/1500 [==============================] - 3s 2ms/step - loss: 0.2641 - accuracy: 0.9013 - val_loss: 0.3139 - val_accuracy: 0.8881\n",
            "Epoch 8/24\n",
            "1500/1500 [==============================] - 3s 2ms/step - loss: 0.2528 - accuracy: 0.9064 - val_loss: 0.3396 - val_accuracy: 0.8806\n",
            "Epoch 9/24\n",
            "1500/1500 [==============================] - 3s 2ms/step - loss: 0.2404 - accuracy: 0.9103 - val_loss: 0.3154 - val_accuracy: 0.8888\n",
            "Epoch 10/24\n",
            "1500/1500 [==============================] - 3s 2ms/step - loss: 0.2306 - accuracy: 0.9137 - val_loss: 0.3163 - val_accuracy: 0.8879\n",
            "Epoch 11/24\n",
            "1500/1500 [==============================] - 3s 2ms/step - loss: 0.2201 - accuracy: 0.9169 - val_loss: 0.3162 - val_accuracy: 0.8938\n",
            "Epoch 12/24\n",
            "1500/1500 [==============================] - 3s 2ms/step - loss: 0.2142 - accuracy: 0.9199 - val_loss: 0.3426 - val_accuracy: 0.8792\n",
            "Epoch 13/24\n",
            "1500/1500 [==============================] - 3s 2ms/step - loss: 0.2050 - accuracy: 0.9236 - val_loss: 0.3488 - val_accuracy: 0.8838\n",
            "Epoch 14/24\n",
            "1500/1500 [==============================] - 3s 2ms/step - loss: 0.1971 - accuracy: 0.9257 - val_loss: 0.3577 - val_accuracy: 0.8839\n",
            "Epoch 15/24\n",
            "1500/1500 [==============================] - 3s 2ms/step - loss: 0.1907 - accuracy: 0.9271 - val_loss: 0.3206 - val_accuracy: 0.8937\n",
            "Epoch 16/24\n",
            "1500/1500 [==============================] - 3s 2ms/step - loss: 0.1857 - accuracy: 0.9298 - val_loss: 0.3295 - val_accuracy: 0.8931\n",
            "Epoch 17/24\n",
            "1500/1500 [==============================] - 3s 2ms/step - loss: 0.1777 - accuracy: 0.9320 - val_loss: 0.3241 - val_accuracy: 0.8979\n",
            "Epoch 18/24\n",
            "1500/1500 [==============================] - 3s 2ms/step - loss: 0.1715 - accuracy: 0.9358 - val_loss: 0.3301 - val_accuracy: 0.8890\n",
            "Epoch 19/24\n",
            "1500/1500 [==============================] - 3s 2ms/step - loss: 0.1670 - accuracy: 0.9367 - val_loss: 0.3519 - val_accuracy: 0.8899\n",
            "Epoch 20/24\n",
            "1500/1500 [==============================] - 3s 2ms/step - loss: 0.1618 - accuracy: 0.9392 - val_loss: 0.3595 - val_accuracy: 0.8919\n",
            "Epoch 21/24\n",
            "1500/1500 [==============================] - 3s 2ms/step - loss: 0.1586 - accuracy: 0.9407 - val_loss: 0.3751 - val_accuracy: 0.8878\n",
            "Epoch 22/24\n",
            "1500/1500 [==============================] - 3s 2ms/step - loss: 0.1507 - accuracy: 0.9426 - val_loss: 0.3619 - val_accuracy: 0.8900\n",
            "Epoch 23/24\n",
            "1500/1500 [==============================] - 3s 2ms/step - loss: 0.1471 - accuracy: 0.9450 - val_loss: 0.3666 - val_accuracy: 0.8915\n",
            "Epoch 24/24\n",
            "1500/1500 [==============================] - 3s 2ms/step - loss: 0.1457 - accuracy: 0.9457 - val_loss: 0.3777 - val_accuracy: 0.8909\n"
          ],
          "name": "stdout"
        },
        {
          "output_type": "execute_result",
          "data": {
            "text/plain": [
              "<tensorflow.python.keras.callbacks.History at 0x7f4de007f8d0>"
            ]
          },
          "metadata": {
            "tags": []
          },
          "execution_count": 11
        }
      ]
    },
    {
      "cell_type": "markdown",
      "metadata": {
        "id": "MqU5ZVAaag2v"
      },
      "source": [
        "To finish this tutorial, evaluate the hypermodel on the test data."
      ]
    },
    {
      "cell_type": "code",
      "metadata": {
        "id": "9E0BTp9Ealjb",
        "colab": {
          "base_uri": "https://localhost:8080/"
        },
        "outputId": "2c58365c-5601-4117-a3c3-9611efe2f472"
      },
      "source": [
        "eval_result = hypermodel.evaluate(img_test, label_test)\n",
        "print(\"[test loss, test accuracy]:\", eval_result)"
      ],
      "execution_count": 12,
      "outputs": [
        {
          "output_type": "stream",
          "text": [
            "313/313 [==============================] - 1s 2ms/step - loss: 0.4070 - accuracy: 0.8844\n",
            "[test loss, test accuracy]: [0.4069584906101227, 0.8844000101089478]\n"
          ],
          "name": "stdout"
        }
      ]
    },
    {
      "cell_type": "markdown",
      "metadata": {
        "id": "EQRpPHZsz-eC"
      },
      "source": [
        "The `my_dir/intro_to_kt` directory contains detailed logs and checkpoints for every trial (model configuration) run during the hyperparameter search. If you re-run the hyperparameter search, the Keras Tuner uses the existing state from these logs to resume the search. To disable this behavior, pass an additional `overwrite=True` argument while instantiating the tuner."
      ]
    },
    {
      "cell_type": "markdown",
      "metadata": {
        "id": "sKwLOzKpFGAj"
      },
      "source": [
        "## Summary\n",
        "\n",
        "In this tutorial, you learned how to use the Keras Tuner to tune hyperparameters for a model. To learn more about the Keras Tuner, check out these additional resources:\n",
        "\n",
        "* [Keras Tuner on the TensorFlow blog](https://blog.tensorflow.org/2020/01/hyperparameter-tuning-with-keras-tuner.html)\n",
        "* [Keras Tuner website](https://keras-team.github.io/keras-tuner/)\n",
        "\n",
        "Also check out the [HParams Dashboard](https://www.tensorflow.org/tensorboard/hyperparameter_tuning_with_hparams) in TensorBoard to interactively tune your model hyperparameters."
      ]
    }
  ]
}